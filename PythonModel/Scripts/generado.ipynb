{
 "cells": [
  {
   "cell_type": "markdown",
   "id": "1b5d3262",
   "metadata": {},
   "source": [
    "# Cargar señales desde test.csv y realizar inferencia en hardware\n",
    "\n",
    "Este notebook permite cargar señales desde un archivo CSV, visualizarlas y realizar inferencia utilizando el hardware conectado."
   ]
  },
  {
   "cell_type": "markdown",
   "id": "578bb43c",
   "metadata": {},
   "source": [
    "## 1. Importar librerías necesarias\n",
    "\n",
    "Importamos pandas para manipulación de datos, matplotlib para visualización y las librerías necesarias para la comunicación con el hardware."
   ]
  },
  {
   "cell_type": "code",
   "execution_count": null,
   "id": "3274c3af",
   "metadata": {},
   "outputs": [],
   "source": [
    "import pandas as pd\n",
    "import matplotlib.pyplot as plt\n",
    "from time import sleep\n",
    "\n",
    "# Importar la librería udma para comunicación con el hardware\n",
    "import udma"
   ]
  },
  {
   "cell_type": "markdown",
   "id": "95771fa0",
   "metadata": {},
   "source": [
    "## 2. Cargar señales desde test.csv\n",
    "\n",
    "Leemos el archivo test.csv y convertimos cada fila en una lista de señales."
   ]
  },
  {
   "cell_type": "code",
   "execution_count": null,
   "id": "5b0ddac6",
   "metadata": {},
   "outputs": [],
   "source": [
    "# Ruta al archivo test.csv (ajustar si es necesario)\n",
    "csv_path = \"test.csv\"\n",
    "\n",
    "# Cargar el archivo CSV. Se asume que cada fila es una señal y cada columna un valor de muestra.\n",
    "df = pd.read_csv(csv_path, header=None)\n",
    "\n",
    "# Convertir cada fila en una lista de enteros (señal)\n",
    "signals = df.values.tolist()\n",
    "\n",
    "print(f\"Se cargaron {len(signals)} señales desde {csv_path}\")"
   ]
  },
  {
   "cell_type": "markdown",
   "id": "672c7d31",
   "metadata": {},
   "source": [
    "## 3. Visualizar una señal de test\n",
    "\n",
    "Seleccionamos una señal del conjunto de test y la graficamos para inspección visual."
   ]
  },
  {
   "cell_type": "code",
   "execution_count": null,
   "id": "c878357d",
   "metadata": {},
   "outputs": [],
   "source": [
    "# Seleccionar el índice de la señal a visualizar\n",
    "signal_idx = 0\n",
    "\n",
    "signal = signals[signal_idx]\n",
    "\n",
    "plt.figure(figsize=(13,2))\n",
    "plt.plot(signal)\n",
    "plt.title(f\"Señal de test #{signal_idx}\")\n",
    "plt.xlabel(\"Muestras\")\n",
    "plt.ylabel(\"Amplitud (ADC units)\")\n",
    "plt.show()"
   ]
  },
  {
   "cell_type": "markdown",
   "id": "e1ddd1d5",
   "metadata": {},
   "source": [
    "## 4. Enviar señal de test al hardware y obtener inferencia\n",
    "\n",
    "Utilizamos las funciones existentes para enviar la señal seleccionada al hardware y obtener el resultado de inferencia."
   ]
  },
  {
   "cell_type": "code",
   "execution_count": null,
   "id": "8af73b00",
   "metadata": {},
   "outputs": [],
   "source": [
    "# Parámetros de conexión (ajustar según corresponda)\n",
    "IP_ADDRESS = '192.168.1.10'\n",
    "IP_PORT = 7\n",
    "\n",
    "# Inicializar la conexión con el hardware\n",
    "pynq = udma.UDMA_CLASS(IP_ADDRESS, IP_PORT)\n",
    "\n",
    "# Intentar conectar\n",
    "connectionStatus = 0\n",
    "while(connectionStatus == 0):\n",
    "    connectionStatus = pynq.connect()\n",
    "    sleep(1)\n",
    "\n",
    "# Función para limpiar el FIFO de entrada\n",
    "def clearInFifo(udmaInstance):\n",
    "    udmaInstance.write_reg(17, 1)\n",
    "    udmaInstance.write_reg(17, 0)\n",
    "\n",
    "# Limpiar FIFO antes de enviar la señal\n",
    "clearInFifo(pynq)\n",
    "\n",
    "# Inicializar el IP core\n",
    "pynq.write_reg(reg=1, data=1)\n",
    "\n",
    "# Enviar la señal seleccionada\n",
    "pynq.write_fifo(length=len(signal), Txdata=signal)[0]\n",
    "pynq.write_reg(reg=2, data=1)\n",
    "pynq.write_reg(reg=2, data=0)\n",
    "\n",
    "# Leer el resultado de inferencia\n",
    "CB_INFERENCE_REG = 2\n",
    "inference_result = pynq.read_reg(reg=CB_INFERENCE_REG)[1][0]\n",
    "\n",
    "print(f\"Resultado de inferencia para la señal #{signal_idx}: {inference_result}\")"
   ]
  },
  {
   "cell_type": "markdown",
   "id": "0d06efab",
   "metadata": {},
   "source": [
    "## 5. Evaluar múltiples señales de test\n",
    "\n",
    "Iteramos sobre varias señales del archivo test.csv, enviamos cada una al hardware y recolectamos los resultados de inferencia."
   ]
  },
  {
   "cell_type": "code",
   "execution_count": null,
   "id": "12b36dc8",
   "metadata": {},
   "outputs": [],
   "source": [
    "# Número de señales a evaluar (puede ajustarse)\n",
    "num_signals_to_test = 10\n",
    "\n",
    "results = []\n",
    "\n",
    "for idx in range(num_signals_to_test):\n",
    "    test_signal = signals[idx]\n",
    "    clearInFifo(pynq)\n",
    "    pynq.write_reg(reg=1, data=1)\n",
    "    pynq.write_fifo(length=len(test_signal), Txdata=test_signal)[0]\n",
    "    pynq.write_reg(reg=2, data=1)\n",
    "    pynq.write_reg(reg=2, data=0)\n",
    "    result = pynq.read_reg(reg=CB_INFERENCE_REG)[1][0]\n",
    "    results.append(result)\n",
    "    print(f\"Señal #{idx}: Inferencia = {result}\")\n",
    "\n",
    "# Los resultados quedan almacenados en la lista 'results'"
   ]
  }
 ],
 "metadata": {
  "kernelspec": {
   "display_name": "env",
   "language": "python",
   "name": "python3"
  },
  "language_info": {
   "codemirror_mode": {
    "name": "ipython",
    "version": 3
   },
   "file_extension": ".py",
   "mimetype": "text/x-python",
   "name": "python",
   "nbconvert_exporter": "python",
   "pygments_lexer": "ipython3",
   "version": "3.10.9"
  }
 },
 "nbformat": 4,
 "nbformat_minor": 5
}
